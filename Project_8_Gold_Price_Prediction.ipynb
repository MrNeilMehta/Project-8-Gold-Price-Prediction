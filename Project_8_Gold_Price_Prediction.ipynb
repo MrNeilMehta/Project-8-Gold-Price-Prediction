{
  "nbformat": 4,
  "nbformat_minor": 0,
  "metadata": {
    "colab": {
      "provenance": [],
      "authorship_tag": "ABX9TyPFfSUOTTdDK7O7LdFtr5Yt",
      "include_colab_link": true
    },
    "kernelspec": {
      "name": "python3",
      "display_name": "Python 3"
    },
    "language_info": {
      "name": "python"
    }
  },
  "cells": [
    {
      "cell_type": "markdown",
      "metadata": {
        "id": "view-in-github",
        "colab_type": "text"
      },
      "source": [
        "<a href=\"https://colab.research.google.com/github/MrNeilMehta/Project-8-Gold-Price-Prediction/blob/main/Project_8_Gold_Price_Prediction.ipynb\" target=\"_parent\"><img src=\"https://colab.research.google.com/assets/colab-badge.svg\" alt=\"Open In Colab\"/></a>"
      ]
    },
    {
      "cell_type": "markdown",
      "source": [
        "Importing the libraries"
      ],
      "metadata": {
        "id": "lkrD_VJnfL15"
      }
    },
    {
      "cell_type": "code",
      "execution_count": 1,
      "metadata": {
        "id": "vKpT04DLeqM1"
      },
      "outputs": [],
      "source": [
        "import numpy as np\n",
        "import pandas as pd\n",
        "import matplotlib.pyplot as plt\n",
        "import seaborn as sns\n",
        "from sklearn.model_selection import train_test_split\n",
        "from sklearn.ensemble import RandomForestRegressor\n",
        "from sklearn import metrics"
      ]
    },
    {
      "cell_type": "markdown",
      "source": [
        "Data Collection and Processing"
      ],
      "metadata": {
        "id": "7hUuurtJf9V-"
      }
    },
    {
      "cell_type": "code",
      "source": [
        "df=pd.read_csv('/content/gld_price_data.csv')"
      ],
      "metadata": {
        "id": "72wmgFkCfOlY"
      },
      "execution_count": 2,
      "outputs": []
    },
    {
      "cell_type": "code",
      "source": [
        "df.head()"
      ],
      "metadata": {
        "colab": {
          "base_uri": "https://localhost:8080/",
          "height": 206
        },
        "id": "Kr2KuZ7jgMGE",
        "outputId": "953b905c-a9dd-4217-d8e5-80f0fd7aff3e"
      },
      "execution_count": 3,
      "outputs": [
        {
          "output_type": "execute_result",
          "data": {
            "text/plain": [
              "       Date          SPX        GLD        USO     SLV   EUR/USD\n",
              "0  1/2/2008  1447.160034  84.860001  78.470001  15.180  1.471692\n",
              "1  1/3/2008  1447.160034  85.570000  78.370003  15.285  1.474491\n",
              "2  1/4/2008  1411.630005  85.129997  77.309998  15.167  1.475492\n",
              "3  1/7/2008  1416.180054  84.769997  75.500000  15.053  1.468299\n",
              "4  1/8/2008  1390.189941  86.779999  76.059998  15.590  1.557099"
            ],
            "text/html": [
              "\n",
              "  <div id=\"df-1f96a9da-3a32-4003-b406-2b7486c73ffc\">\n",
              "    <div class=\"colab-df-container\">\n",
              "      <div>\n",
              "<style scoped>\n",
              "    .dataframe tbody tr th:only-of-type {\n",
              "        vertical-align: middle;\n",
              "    }\n",
              "\n",
              "    .dataframe tbody tr th {\n",
              "        vertical-align: top;\n",
              "    }\n",
              "\n",
              "    .dataframe thead th {\n",
              "        text-align: right;\n",
              "    }\n",
              "</style>\n",
              "<table border=\"1\" class=\"dataframe\">\n",
              "  <thead>\n",
              "    <tr style=\"text-align: right;\">\n",
              "      <th></th>\n",
              "      <th>Date</th>\n",
              "      <th>SPX</th>\n",
              "      <th>GLD</th>\n",
              "      <th>USO</th>\n",
              "      <th>SLV</th>\n",
              "      <th>EUR/USD</th>\n",
              "    </tr>\n",
              "  </thead>\n",
              "  <tbody>\n",
              "    <tr>\n",
              "      <th>0</th>\n",
              "      <td>1/2/2008</td>\n",
              "      <td>1447.160034</td>\n",
              "      <td>84.860001</td>\n",
              "      <td>78.470001</td>\n",
              "      <td>15.180</td>\n",
              "      <td>1.471692</td>\n",
              "    </tr>\n",
              "    <tr>\n",
              "      <th>1</th>\n",
              "      <td>1/3/2008</td>\n",
              "      <td>1447.160034</td>\n",
              "      <td>85.570000</td>\n",
              "      <td>78.370003</td>\n",
              "      <td>15.285</td>\n",
              "      <td>1.474491</td>\n",
              "    </tr>\n",
              "    <tr>\n",
              "      <th>2</th>\n",
              "      <td>1/4/2008</td>\n",
              "      <td>1411.630005</td>\n",
              "      <td>85.129997</td>\n",
              "      <td>77.309998</td>\n",
              "      <td>15.167</td>\n",
              "      <td>1.475492</td>\n",
              "    </tr>\n",
              "    <tr>\n",
              "      <th>3</th>\n",
              "      <td>1/7/2008</td>\n",
              "      <td>1416.180054</td>\n",
              "      <td>84.769997</td>\n",
              "      <td>75.500000</td>\n",
              "      <td>15.053</td>\n",
              "      <td>1.468299</td>\n",
              "    </tr>\n",
              "    <tr>\n",
              "      <th>4</th>\n",
              "      <td>1/8/2008</td>\n",
              "      <td>1390.189941</td>\n",
              "      <td>86.779999</td>\n",
              "      <td>76.059998</td>\n",
              "      <td>15.590</td>\n",
              "      <td>1.557099</td>\n",
              "    </tr>\n",
              "  </tbody>\n",
              "</table>\n",
              "</div>\n",
              "      <button class=\"colab-df-convert\" onclick=\"convertToInteractive('df-1f96a9da-3a32-4003-b406-2b7486c73ffc')\"\n",
              "              title=\"Convert this dataframe to an interactive table.\"\n",
              "              style=\"display:none;\">\n",
              "        \n",
              "  <svg xmlns=\"http://www.w3.org/2000/svg\" height=\"24px\"viewBox=\"0 0 24 24\"\n",
              "       width=\"24px\">\n",
              "    <path d=\"M0 0h24v24H0V0z\" fill=\"none\"/>\n",
              "    <path d=\"M18.56 5.44l.94 2.06.94-2.06 2.06-.94-2.06-.94-.94-2.06-.94 2.06-2.06.94zm-11 1L8.5 8.5l.94-2.06 2.06-.94-2.06-.94L8.5 2.5l-.94 2.06-2.06.94zm10 10l.94 2.06.94-2.06 2.06-.94-2.06-.94-.94-2.06-.94 2.06-2.06.94z\"/><path d=\"M17.41 7.96l-1.37-1.37c-.4-.4-.92-.59-1.43-.59-.52 0-1.04.2-1.43.59L10.3 9.45l-7.72 7.72c-.78.78-.78 2.05 0 2.83L4 21.41c.39.39.9.59 1.41.59.51 0 1.02-.2 1.41-.59l7.78-7.78 2.81-2.81c.8-.78.8-2.07 0-2.86zM5.41 20L4 18.59l7.72-7.72 1.47 1.35L5.41 20z\"/>\n",
              "  </svg>\n",
              "      </button>\n",
              "      \n",
              "  <style>\n",
              "    .colab-df-container {\n",
              "      display:flex;\n",
              "      flex-wrap:wrap;\n",
              "      gap: 12px;\n",
              "    }\n",
              "\n",
              "    .colab-df-convert {\n",
              "      background-color: #E8F0FE;\n",
              "      border: none;\n",
              "      border-radius: 50%;\n",
              "      cursor: pointer;\n",
              "      display: none;\n",
              "      fill: #1967D2;\n",
              "      height: 32px;\n",
              "      padding: 0 0 0 0;\n",
              "      width: 32px;\n",
              "    }\n",
              "\n",
              "    .colab-df-convert:hover {\n",
              "      background-color: #E2EBFA;\n",
              "      box-shadow: 0px 1px 2px rgba(60, 64, 67, 0.3), 0px 1px 3px 1px rgba(60, 64, 67, 0.15);\n",
              "      fill: #174EA6;\n",
              "    }\n",
              "\n",
              "    [theme=dark] .colab-df-convert {\n",
              "      background-color: #3B4455;\n",
              "      fill: #D2E3FC;\n",
              "    }\n",
              "\n",
              "    [theme=dark] .colab-df-convert:hover {\n",
              "      background-color: #434B5C;\n",
              "      box-shadow: 0px 1px 3px 1px rgba(0, 0, 0, 0.15);\n",
              "      filter: drop-shadow(0px 1px 2px rgba(0, 0, 0, 0.3));\n",
              "      fill: #FFFFFF;\n",
              "    }\n",
              "  </style>\n",
              "\n",
              "      <script>\n",
              "        const buttonEl =\n",
              "          document.querySelector('#df-1f96a9da-3a32-4003-b406-2b7486c73ffc button.colab-df-convert');\n",
              "        buttonEl.style.display =\n",
              "          google.colab.kernel.accessAllowed ? 'block' : 'none';\n",
              "\n",
              "        async function convertToInteractive(key) {\n",
              "          const element = document.querySelector('#df-1f96a9da-3a32-4003-b406-2b7486c73ffc');\n",
              "          const dataTable =\n",
              "            await google.colab.kernel.invokeFunction('convertToInteractive',\n",
              "                                                     [key], {});\n",
              "          if (!dataTable) return;\n",
              "\n",
              "          const docLinkHtml = 'Like what you see? Visit the ' +\n",
              "            '<a target=\"_blank\" href=https://colab.research.google.com/notebooks/data_table.ipynb>data table notebook</a>'\n",
              "            + ' to learn more about interactive tables.';\n",
              "          element.innerHTML = '';\n",
              "          dataTable['output_type'] = 'display_data';\n",
              "          await google.colab.output.renderOutput(dataTable, element);\n",
              "          const docLink = document.createElement('div');\n",
              "          docLink.innerHTML = docLinkHtml;\n",
              "          element.appendChild(docLink);\n",
              "        }\n",
              "      </script>\n",
              "    </div>\n",
              "  </div>\n",
              "  "
            ]
          },
          "metadata": {},
          "execution_count": 3
        }
      ]
    },
    {
      "cell_type": "code",
      "source": [
        "df.tail()"
      ],
      "metadata": {
        "colab": {
          "base_uri": "https://localhost:8080/",
          "height": 206
        },
        "id": "wxf4KLL2gWsx",
        "outputId": "5095c107-11ca-486f-cd00-13fdc97547a0"
      },
      "execution_count": 7,
      "outputs": [
        {
          "output_type": "execute_result",
          "data": {
            "text/plain": [
              "           Date          SPX         GLD      USO      SLV   EUR/USD\n",
              "2285   5/8/2018  2671.919922  124.589996  14.0600  15.5100  1.186789\n",
              "2286   5/9/2018  2697.790039  124.330002  14.3700  15.5300  1.184722\n",
              "2287  5/10/2018  2723.070068  125.180000  14.4100  15.7400  1.191753\n",
              "2288  5/14/2018  2730.129883  124.489998  14.3800  15.5600  1.193118\n",
              "2289  5/16/2018  2725.780029  122.543800  14.4058  15.4542  1.182033"
            ],
            "text/html": [
              "\n",
              "  <div id=\"df-f18e7851-b4cd-4984-b380-685160d4bce1\">\n",
              "    <div class=\"colab-df-container\">\n",
              "      <div>\n",
              "<style scoped>\n",
              "    .dataframe tbody tr th:only-of-type {\n",
              "        vertical-align: middle;\n",
              "    }\n",
              "\n",
              "    .dataframe tbody tr th {\n",
              "        vertical-align: top;\n",
              "    }\n",
              "\n",
              "    .dataframe thead th {\n",
              "        text-align: right;\n",
              "    }\n",
              "</style>\n",
              "<table border=\"1\" class=\"dataframe\">\n",
              "  <thead>\n",
              "    <tr style=\"text-align: right;\">\n",
              "      <th></th>\n",
              "      <th>Date</th>\n",
              "      <th>SPX</th>\n",
              "      <th>GLD</th>\n",
              "      <th>USO</th>\n",
              "      <th>SLV</th>\n",
              "      <th>EUR/USD</th>\n",
              "    </tr>\n",
              "  </thead>\n",
              "  <tbody>\n",
              "    <tr>\n",
              "      <th>2285</th>\n",
              "      <td>5/8/2018</td>\n",
              "      <td>2671.919922</td>\n",
              "      <td>124.589996</td>\n",
              "      <td>14.0600</td>\n",
              "      <td>15.5100</td>\n",
              "      <td>1.186789</td>\n",
              "    </tr>\n",
              "    <tr>\n",
              "      <th>2286</th>\n",
              "      <td>5/9/2018</td>\n",
              "      <td>2697.790039</td>\n",
              "      <td>124.330002</td>\n",
              "      <td>14.3700</td>\n",
              "      <td>15.5300</td>\n",
              "      <td>1.184722</td>\n",
              "    </tr>\n",
              "    <tr>\n",
              "      <th>2287</th>\n",
              "      <td>5/10/2018</td>\n",
              "      <td>2723.070068</td>\n",
              "      <td>125.180000</td>\n",
              "      <td>14.4100</td>\n",
              "      <td>15.7400</td>\n",
              "      <td>1.191753</td>\n",
              "    </tr>\n",
              "    <tr>\n",
              "      <th>2288</th>\n",
              "      <td>5/14/2018</td>\n",
              "      <td>2730.129883</td>\n",
              "      <td>124.489998</td>\n",
              "      <td>14.3800</td>\n",
              "      <td>15.5600</td>\n",
              "      <td>1.193118</td>\n",
              "    </tr>\n",
              "    <tr>\n",
              "      <th>2289</th>\n",
              "      <td>5/16/2018</td>\n",
              "      <td>2725.780029</td>\n",
              "      <td>122.543800</td>\n",
              "      <td>14.4058</td>\n",
              "      <td>15.4542</td>\n",
              "      <td>1.182033</td>\n",
              "    </tr>\n",
              "  </tbody>\n",
              "</table>\n",
              "</div>\n",
              "      <button class=\"colab-df-convert\" onclick=\"convertToInteractive('df-f18e7851-b4cd-4984-b380-685160d4bce1')\"\n",
              "              title=\"Convert this dataframe to an interactive table.\"\n",
              "              style=\"display:none;\">\n",
              "        \n",
              "  <svg xmlns=\"http://www.w3.org/2000/svg\" height=\"24px\"viewBox=\"0 0 24 24\"\n",
              "       width=\"24px\">\n",
              "    <path d=\"M0 0h24v24H0V0z\" fill=\"none\"/>\n",
              "    <path d=\"M18.56 5.44l.94 2.06.94-2.06 2.06-.94-2.06-.94-.94-2.06-.94 2.06-2.06.94zm-11 1L8.5 8.5l.94-2.06 2.06-.94-2.06-.94L8.5 2.5l-.94 2.06-2.06.94zm10 10l.94 2.06.94-2.06 2.06-.94-2.06-.94-.94-2.06-.94 2.06-2.06.94z\"/><path d=\"M17.41 7.96l-1.37-1.37c-.4-.4-.92-.59-1.43-.59-.52 0-1.04.2-1.43.59L10.3 9.45l-7.72 7.72c-.78.78-.78 2.05 0 2.83L4 21.41c.39.39.9.59 1.41.59.51 0 1.02-.2 1.41-.59l7.78-7.78 2.81-2.81c.8-.78.8-2.07 0-2.86zM5.41 20L4 18.59l7.72-7.72 1.47 1.35L5.41 20z\"/>\n",
              "  </svg>\n",
              "      </button>\n",
              "      \n",
              "  <style>\n",
              "    .colab-df-container {\n",
              "      display:flex;\n",
              "      flex-wrap:wrap;\n",
              "      gap: 12px;\n",
              "    }\n",
              "\n",
              "    .colab-df-convert {\n",
              "      background-color: #E8F0FE;\n",
              "      border: none;\n",
              "      border-radius: 50%;\n",
              "      cursor: pointer;\n",
              "      display: none;\n",
              "      fill: #1967D2;\n",
              "      height: 32px;\n",
              "      padding: 0 0 0 0;\n",
              "      width: 32px;\n",
              "    }\n",
              "\n",
              "    .colab-df-convert:hover {\n",
              "      background-color: #E2EBFA;\n",
              "      box-shadow: 0px 1px 2px rgba(60, 64, 67, 0.3), 0px 1px 3px 1px rgba(60, 64, 67, 0.15);\n",
              "      fill: #174EA6;\n",
              "    }\n",
              "\n",
              "    [theme=dark] .colab-df-convert {\n",
              "      background-color: #3B4455;\n",
              "      fill: #D2E3FC;\n",
              "    }\n",
              "\n",
              "    [theme=dark] .colab-df-convert:hover {\n",
              "      background-color: #434B5C;\n",
              "      box-shadow: 0px 1px 3px 1px rgba(0, 0, 0, 0.15);\n",
              "      filter: drop-shadow(0px 1px 2px rgba(0, 0, 0, 0.3));\n",
              "      fill: #FFFFFF;\n",
              "    }\n",
              "  </style>\n",
              "\n",
              "      <script>\n",
              "        const buttonEl =\n",
              "          document.querySelector('#df-f18e7851-b4cd-4984-b380-685160d4bce1 button.colab-df-convert');\n",
              "        buttonEl.style.display =\n",
              "          google.colab.kernel.accessAllowed ? 'block' : 'none';\n",
              "\n",
              "        async function convertToInteractive(key) {\n",
              "          const element = document.querySelector('#df-f18e7851-b4cd-4984-b380-685160d4bce1');\n",
              "          const dataTable =\n",
              "            await google.colab.kernel.invokeFunction('convertToInteractive',\n",
              "                                                     [key], {});\n",
              "          if (!dataTable) return;\n",
              "\n",
              "          const docLinkHtml = 'Like what you see? Visit the ' +\n",
              "            '<a target=\"_blank\" href=https://colab.research.google.com/notebooks/data_table.ipynb>data table notebook</a>'\n",
              "            + ' to learn more about interactive tables.';\n",
              "          element.innerHTML = '';\n",
              "          dataTable['output_type'] = 'display_data';\n",
              "          await google.colab.output.renderOutput(dataTable, element);\n",
              "          const docLink = document.createElement('div');\n",
              "          docLink.innerHTML = docLinkHtml;\n",
              "          element.appendChild(docLink);\n",
              "        }\n",
              "      </script>\n",
              "    </div>\n",
              "  </div>\n",
              "  "
            ]
          },
          "metadata": {},
          "execution_count": 7
        }
      ]
    },
    {
      "cell_type": "code",
      "source": [
        "df.shape"
      ],
      "metadata": {
        "colab": {
          "base_uri": "https://localhost:8080/"
        },
        "id": "HJFNbdN0gSki",
        "outputId": "0d2996e7-aef8-464e-bd03-0c5c5f376e2c"
      },
      "execution_count": 4,
      "outputs": [
        {
          "output_type": "execute_result",
          "data": {
            "text/plain": [
              "(2290, 6)"
            ]
          },
          "metadata": {},
          "execution_count": 4
        }
      ]
    },
    {
      "cell_type": "code",
      "source": [
        "df.info()"
      ],
      "metadata": {
        "colab": {
          "base_uri": "https://localhost:8080/"
        },
        "id": "qIatHYSPgTJv",
        "outputId": "4e5e8af3-ee56-4c43-e944-65550dfe9e84"
      },
      "execution_count": 5,
      "outputs": [
        {
          "output_type": "stream",
          "name": "stdout",
          "text": [
            "<class 'pandas.core.frame.DataFrame'>\n",
            "RangeIndex: 2290 entries, 0 to 2289\n",
            "Data columns (total 6 columns):\n",
            " #   Column   Non-Null Count  Dtype  \n",
            "---  ------   --------------  -----  \n",
            " 0   Date     2290 non-null   object \n",
            " 1   SPX      2290 non-null   float64\n",
            " 2   GLD      2290 non-null   float64\n",
            " 3   USO      2290 non-null   float64\n",
            " 4   SLV      2290 non-null   float64\n",
            " 5   EUR/USD  2290 non-null   float64\n",
            "dtypes: float64(5), object(1)\n",
            "memory usage: 107.5+ KB\n"
          ]
        }
      ]
    },
    {
      "cell_type": "code",
      "source": [
        "df.isnull().sum()"
      ],
      "metadata": {
        "colab": {
          "base_uri": "https://localhost:8080/"
        },
        "id": "w_1Qg9yKgZmB",
        "outputId": "cd327573-cc56-42e6-f73c-73ffb5ba7d46"
      },
      "execution_count": 8,
      "outputs": [
        {
          "output_type": "execute_result",
          "data": {
            "text/plain": [
              "Date       0\n",
              "SPX        0\n",
              "GLD        0\n",
              "USO        0\n",
              "SLV        0\n",
              "EUR/USD    0\n",
              "dtype: int64"
            ]
          },
          "metadata": {},
          "execution_count": 8
        }
      ]
    },
    {
      "cell_type": "code",
      "source": [
        "df.describe()"
      ],
      "metadata": {
        "colab": {
          "base_uri": "https://localhost:8080/",
          "height": 300
        },
        "id": "dqwcyun9gUEI",
        "outputId": "84f65272-474f-4553-98df-9d6446577126"
      },
      "execution_count": 6,
      "outputs": [
        {
          "output_type": "execute_result",
          "data": {
            "text/plain": [
              "               SPX          GLD          USO          SLV      EUR/USD\n",
              "count  2290.000000  2290.000000  2290.000000  2290.000000  2290.000000\n",
              "mean   1654.315776   122.732875    31.842221    20.084997     1.283653\n",
              "std     519.111540    23.283346    19.523517     7.092566     0.131547\n",
              "min     676.530029    70.000000     7.960000     8.850000     1.039047\n",
              "25%    1239.874969   109.725000    14.380000    15.570000     1.171313\n",
              "50%    1551.434998   120.580002    33.869999    17.268500     1.303297\n",
              "75%    2073.010070   132.840004    37.827501    22.882500     1.369971\n",
              "max    2872.870117   184.589996   117.480003    47.259998     1.598798"
            ],
            "text/html": [
              "\n",
              "  <div id=\"df-860d6fc7-1375-4d16-8b9e-909352232237\">\n",
              "    <div class=\"colab-df-container\">\n",
              "      <div>\n",
              "<style scoped>\n",
              "    .dataframe tbody tr th:only-of-type {\n",
              "        vertical-align: middle;\n",
              "    }\n",
              "\n",
              "    .dataframe tbody tr th {\n",
              "        vertical-align: top;\n",
              "    }\n",
              "\n",
              "    .dataframe thead th {\n",
              "        text-align: right;\n",
              "    }\n",
              "</style>\n",
              "<table border=\"1\" class=\"dataframe\">\n",
              "  <thead>\n",
              "    <tr style=\"text-align: right;\">\n",
              "      <th></th>\n",
              "      <th>SPX</th>\n",
              "      <th>GLD</th>\n",
              "      <th>USO</th>\n",
              "      <th>SLV</th>\n",
              "      <th>EUR/USD</th>\n",
              "    </tr>\n",
              "  </thead>\n",
              "  <tbody>\n",
              "    <tr>\n",
              "      <th>count</th>\n",
              "      <td>2290.000000</td>\n",
              "      <td>2290.000000</td>\n",
              "      <td>2290.000000</td>\n",
              "      <td>2290.000000</td>\n",
              "      <td>2290.000000</td>\n",
              "    </tr>\n",
              "    <tr>\n",
              "      <th>mean</th>\n",
              "      <td>1654.315776</td>\n",
              "      <td>122.732875</td>\n",
              "      <td>31.842221</td>\n",
              "      <td>20.084997</td>\n",
              "      <td>1.283653</td>\n",
              "    </tr>\n",
              "    <tr>\n",
              "      <th>std</th>\n",
              "      <td>519.111540</td>\n",
              "      <td>23.283346</td>\n",
              "      <td>19.523517</td>\n",
              "      <td>7.092566</td>\n",
              "      <td>0.131547</td>\n",
              "    </tr>\n",
              "    <tr>\n",
              "      <th>min</th>\n",
              "      <td>676.530029</td>\n",
              "      <td>70.000000</td>\n",
              "      <td>7.960000</td>\n",
              "      <td>8.850000</td>\n",
              "      <td>1.039047</td>\n",
              "    </tr>\n",
              "    <tr>\n",
              "      <th>25%</th>\n",
              "      <td>1239.874969</td>\n",
              "      <td>109.725000</td>\n",
              "      <td>14.380000</td>\n",
              "      <td>15.570000</td>\n",
              "      <td>1.171313</td>\n",
              "    </tr>\n",
              "    <tr>\n",
              "      <th>50%</th>\n",
              "      <td>1551.434998</td>\n",
              "      <td>120.580002</td>\n",
              "      <td>33.869999</td>\n",
              "      <td>17.268500</td>\n",
              "      <td>1.303297</td>\n",
              "    </tr>\n",
              "    <tr>\n",
              "      <th>75%</th>\n",
              "      <td>2073.010070</td>\n",
              "      <td>132.840004</td>\n",
              "      <td>37.827501</td>\n",
              "      <td>22.882500</td>\n",
              "      <td>1.369971</td>\n",
              "    </tr>\n",
              "    <tr>\n",
              "      <th>max</th>\n",
              "      <td>2872.870117</td>\n",
              "      <td>184.589996</td>\n",
              "      <td>117.480003</td>\n",
              "      <td>47.259998</td>\n",
              "      <td>1.598798</td>\n",
              "    </tr>\n",
              "  </tbody>\n",
              "</table>\n",
              "</div>\n",
              "      <button class=\"colab-df-convert\" onclick=\"convertToInteractive('df-860d6fc7-1375-4d16-8b9e-909352232237')\"\n",
              "              title=\"Convert this dataframe to an interactive table.\"\n",
              "              style=\"display:none;\">\n",
              "        \n",
              "  <svg xmlns=\"http://www.w3.org/2000/svg\" height=\"24px\"viewBox=\"0 0 24 24\"\n",
              "       width=\"24px\">\n",
              "    <path d=\"M0 0h24v24H0V0z\" fill=\"none\"/>\n",
              "    <path d=\"M18.56 5.44l.94 2.06.94-2.06 2.06-.94-2.06-.94-.94-2.06-.94 2.06-2.06.94zm-11 1L8.5 8.5l.94-2.06 2.06-.94-2.06-.94L8.5 2.5l-.94 2.06-2.06.94zm10 10l.94 2.06.94-2.06 2.06-.94-2.06-.94-.94-2.06-.94 2.06-2.06.94z\"/><path d=\"M17.41 7.96l-1.37-1.37c-.4-.4-.92-.59-1.43-.59-.52 0-1.04.2-1.43.59L10.3 9.45l-7.72 7.72c-.78.78-.78 2.05 0 2.83L4 21.41c.39.39.9.59 1.41.59.51 0 1.02-.2 1.41-.59l7.78-7.78 2.81-2.81c.8-.78.8-2.07 0-2.86zM5.41 20L4 18.59l7.72-7.72 1.47 1.35L5.41 20z\"/>\n",
              "  </svg>\n",
              "      </button>\n",
              "      \n",
              "  <style>\n",
              "    .colab-df-container {\n",
              "      display:flex;\n",
              "      flex-wrap:wrap;\n",
              "      gap: 12px;\n",
              "    }\n",
              "\n",
              "    .colab-df-convert {\n",
              "      background-color: #E8F0FE;\n",
              "      border: none;\n",
              "      border-radius: 50%;\n",
              "      cursor: pointer;\n",
              "      display: none;\n",
              "      fill: #1967D2;\n",
              "      height: 32px;\n",
              "      padding: 0 0 0 0;\n",
              "      width: 32px;\n",
              "    }\n",
              "\n",
              "    .colab-df-convert:hover {\n",
              "      background-color: #E2EBFA;\n",
              "      box-shadow: 0px 1px 2px rgba(60, 64, 67, 0.3), 0px 1px 3px 1px rgba(60, 64, 67, 0.15);\n",
              "      fill: #174EA6;\n",
              "    }\n",
              "\n",
              "    [theme=dark] .colab-df-convert {\n",
              "      background-color: #3B4455;\n",
              "      fill: #D2E3FC;\n",
              "    }\n",
              "\n",
              "    [theme=dark] .colab-df-convert:hover {\n",
              "      background-color: #434B5C;\n",
              "      box-shadow: 0px 1px 3px 1px rgba(0, 0, 0, 0.15);\n",
              "      filter: drop-shadow(0px 1px 2px rgba(0, 0, 0, 0.3));\n",
              "      fill: #FFFFFF;\n",
              "    }\n",
              "  </style>\n",
              "\n",
              "      <script>\n",
              "        const buttonEl =\n",
              "          document.querySelector('#df-860d6fc7-1375-4d16-8b9e-909352232237 button.colab-df-convert');\n",
              "        buttonEl.style.display =\n",
              "          google.colab.kernel.accessAllowed ? 'block' : 'none';\n",
              "\n",
              "        async function convertToInteractive(key) {\n",
              "          const element = document.querySelector('#df-860d6fc7-1375-4d16-8b9e-909352232237');\n",
              "          const dataTable =\n",
              "            await google.colab.kernel.invokeFunction('convertToInteractive',\n",
              "                                                     [key], {});\n",
              "          if (!dataTable) return;\n",
              "\n",
              "          const docLinkHtml = 'Like what you see? Visit the ' +\n",
              "            '<a target=\"_blank\" href=https://colab.research.google.com/notebooks/data_table.ipynb>data table notebook</a>'\n",
              "            + ' to learn more about interactive tables.';\n",
              "          element.innerHTML = '';\n",
              "          dataTable['output_type'] = 'display_data';\n",
              "          await google.colab.output.renderOutput(dataTable, element);\n",
              "          const docLink = document.createElement('div');\n",
              "          docLink.innerHTML = docLinkHtml;\n",
              "          element.appendChild(docLink);\n",
              "        }\n",
              "      </script>\n",
              "    </div>\n",
              "  </div>\n",
              "  "
            ]
          },
          "metadata": {},
          "execution_count": 6
        }
      ]
    },
    {
      "cell_type": "markdown",
      "source": [
        "Correlation\n",
        "\n",
        "  1.Positive Correlation\n",
        "\n",
        "  \n",
        "  2.Negative Correlation"
      ],
      "metadata": {
        "id": "tgINZ_fzgdD0"
      }
    },
    {
      "cell_type": "code",
      "source": [
        "correlation = df.corr()"
      ],
      "metadata": {
        "id": "dVogt8eagU4I"
      },
      "execution_count": 9,
      "outputs": []
    },
    {
      "cell_type": "code",
      "source": [
        "# constructing a heatmap to understand the correlatiom\n",
        "plt.figure(figsize = (8,8))\n",
        "sns.heatmap(correlation, cbar=True, square=True, fmt='.1f',annot=True, annot_kws={'size':8}, cmap='Blues')"
      ],
      "metadata": {
        "colab": {
          "base_uri": "https://localhost:8080/",
          "height": 487
        },
        "id": "Zp2cnbwGh_I-",
        "outputId": "16b7cb5a-592c-4547-ef39-e7db320aa2f1"
      },
      "execution_count": 10,
      "outputs": [
        {
          "output_type": "execute_result",
          "data": {
            "text/plain": [
              "<matplotlib.axes._subplots.AxesSubplot at 0x7f21be6abf40>"
            ]
          },
          "metadata": {},
          "execution_count": 10
        },
        {
          "output_type": "display_data",
          "data": {
            "text/plain": [
              "<Figure size 576x576 with 2 Axes>"
            ],
            "image/png": "[encoded data removed]"
          },
          "metadata": {
            "needs_background": "light"
          }
        }
      ]
    },
    {
      "cell_type": "code",
      "source": [
        "# correlation values of GLD\n",
        "print(correlation['GLD'])"
      ],
      "metadata": {
        "colab": {
          "base_uri": "https://localhost:8080/"
        },
        "id": "ebgX2v_7iAnM",
        "outputId": "12b7f912-566e-4f90-a5bd-9310b6b075e0"
      },
      "execution_count": 11,
      "outputs": [
        {
          "output_type": "stream",
          "name": "stdout",
          "text": [
            "SPX        0.049345\n",
            "GLD        1.000000\n",
            "USO       -0.186360\n",
            "SLV        0.866632\n",
            "EUR/USD   -0.024375\n",
            "Name: GLD, dtype: float64\n"
          ]
        }
      ]
    },
    {
      "cell_type": "code",
      "source": [
        "# checking the distribution of the GLD Price\n",
        "sns.distplot(df['GLD'],color='red')"
      ],
      "metadata": {
        "colab": {
          "base_uri": "https://localhost:8080/",
          "height": 355
        },
        "id": "vI3EZzQqiDJX",
        "outputId": "2683becd-ac2a-4590-a27e-aa57b37cff95"
      },
      "execution_count": 15,
      "outputs": [
        {
          "output_type": "stream",
          "name": "stderr",
          "text": [
            "/usr/local/lib/python3.8/dist-packages/seaborn/distributions.py:2619: FutureWarning: `distplot` is a deprecated function and will be removed in a future version. Please adapt your code to use either `displot` (a figure-level function with similar flexibility) or `histplot` (an axes-level function for histograms).\n",
            "  warnings.warn(msg, FutureWarning)\n"
          ]
        },
        {
          "output_type": "execute_result",
          "data": {
            "text/plain": [
              "<matplotlib.axes._subplots.AxesSubplot at 0x7f21a8284670>"
            ]
          },
          "metadata": {},
          "execution_count": 15
        },
        {
          "output_type": "display_data",
          "data": {
            "text/plain": [
              "<Figure size 432x288 with 1 Axes>"
            ],
            "image/png": "[encoded data removed]"
          },
          "metadata": {
            "needs_background": "light"
          }
        }
      ]
    },
    {
      "cell_type": "markdown",
      "source": [
        "Splitting the Features and targets"
      ],
      "metadata": {
        "id": "qWSExOfaiNNV"
      }
    },
    {
      "cell_type": "code",
      "source": [
        "X = df.drop(['Date','GLD'],axis=1)\n",
        "Y = df['GLD']"
      ],
      "metadata": {
        "id": "oUved-LriF6S"
      },
      "execution_count": 16,
      "outputs": []
    },
    {
      "cell_type": "code",
      "source": [
        "print(X)"
      ],
      "metadata": {
        "colab": {
          "base_uri": "https://localhost:8080/"
        },
        "id": "xZtWANWgiS0F",
        "outputId": "d48d451d-2dca-4e21-e6d1-30eff15b96f5"
      },
      "execution_count": 17,
      "outputs": [
        {
          "output_type": "stream",
          "name": "stdout",
          "text": [
            "              SPX        USO      SLV   EUR/USD\n",
            "0     1447.160034  78.470001  15.1800  1.471692\n",
            "1     1447.160034  78.370003  15.2850  1.474491\n",
            "2     1411.630005  77.309998  15.1670  1.475492\n",
            "3     1416.180054  75.500000  15.0530  1.468299\n",
            "4     1390.189941  76.059998  15.5900  1.557099\n",
            "...           ...        ...      ...       ...\n",
            "2285  2671.919922  14.060000  15.5100  1.186789\n",
            "2286  2697.790039  14.370000  15.5300  1.184722\n",
            "2287  2723.070068  14.410000  15.7400  1.191753\n",
            "2288  2730.129883  14.380000  15.5600  1.193118\n",
            "2289  2725.780029  14.405800  15.4542  1.182033\n",
            "\n",
            "[2290 rows x 4 columns]\n"
          ]
        }
      ]
    },
    {
      "cell_type": "code",
      "source": [
        "print(Y)"
      ],
      "metadata": {
        "colab": {
          "base_uri": "https://localhost:8080/"
        },
        "id": "zbCJ486KiULk",
        "outputId": "c199de60-a0bd-46a8-87f6-8f43a08f185f"
      },
      "execution_count": 18,
      "outputs": [
        {
          "output_type": "stream",
          "name": "stdout",
          "text": [
            "0        84.860001\n",
            "1        85.570000\n",
            "2        85.129997\n",
            "3        84.769997\n",
            "4        86.779999\n",
            "           ...    \n",
            "2285    124.589996\n",
            "2286    124.330002\n",
            "2287    125.180000\n",
            "2288    124.489998\n",
            "2289    122.543800\n",
            "Name: GLD, Length: 2290, dtype: float64\n"
          ]
        }
      ]
    },
    {
      "cell_type": "markdown",
      "source": [
        "Splitting the data into training and testing data"
      ],
      "metadata": {
        "id": "Z-AnxDRbiXJu"
      }
    },
    {
      "cell_type": "code",
      "source": [
        "X_train, X_test, Y_train, Y_test = train_test_split(X, Y, test_size = 0.2, random_state=2)"
      ],
      "metadata": {
        "id": "wycLQermiVqT"
      },
      "execution_count": 19,
      "outputs": []
    },
    {
      "cell_type": "markdown",
      "source": [
        "\n",
        "\n",
        "\n",
        "---\n",
        "\n",
        "Model Training\n",
        "\n",
        "---\n",
        "\n"
      ],
      "metadata": {
        "id": "wIuT1P8TifSZ"
      }
    },
    {
      "cell_type": "markdown",
      "source": [
        "Random Forest Regressor"
      ],
      "metadata": {
        "id": "U79c3lEuilSA"
      }
    },
    {
      "cell_type": "code",
      "source": [
        "regressor = RandomForestRegressor(n_estimators=100)"
      ],
      "metadata": {
        "id": "-diJiaMYic-E"
      },
      "execution_count": 20,
      "outputs": []
    },
    {
      "cell_type": "code",
      "source": [
        "# training the model\n",
        "regressor.fit(X_train,Y_train)"
      ],
      "metadata": {
        "colab": {
          "base_uri": "https://localhost:8080/"
        },
        "id": "xQ1eTr3yiq0d",
        "outputId": "8d2467dc-8d5f-4d95-8187-ebe5c73fbbc5"
      },
      "execution_count": 21,
      "outputs": [
        {
          "output_type": "execute_result",
          "data": {
            "text/plain": [
              "RandomForestRegressor()"
            ]
          },
          "metadata": {},
          "execution_count": 21
        }
      ]
    },
    {
      "cell_type": "markdown",
      "source": [
        "Model Evalutation"
      ],
      "metadata": {
        "id": "5kf08uTtitrh"
      }
    },
    {
      "cell_type": "code",
      "source": [
        "# prediction on Test Data\n",
        "test_data_prediction = regressor.predict(X_test)"
      ],
      "metadata": {
        "id": "Dt2ASXhnisjP"
      },
      "execution_count": 22,
      "outputs": []
    },
    {
      "cell_type": "code",
      "source": [
        "print(test_data_prediction)"
      ],
      "metadata": {
        "colab": {
          "base_uri": "https://localhost:8080/"
        },
        "id": "wPyt_xiRi5rC",
        "outputId": "17ba69ba-d82b-40fb-994b-cc7ecbc31678"
      },
      "execution_count": 23,
      "outputs": [
        {
          "output_type": "stream",
          "name": "stdout",
          "text": [
            "[168.61789964  82.03589978 115.70939983 127.51050028 120.72010123\n",
            " 154.82449736 150.20769844 126.06660034 117.48609878 126.00320025\n",
            " 116.84670125 171.90920061 141.51409827 167.78099864 115.19189977\n",
            " 117.56870047 140.89080262 169.81190041 159.16910245 161.30899877\n",
            " 155.15730036 125.45100021 176.46719965 157.09230288 125.28290027\n",
            "  93.97509973  77.69529979 120.53360033 119.13159933 167.48339908\n",
            "  87.96420062 125.27259969  91.16930068 117.82500035 121.2005993\n",
            " 136.08470174 115.550401   115.17480093 147.83949968 107.37170078\n",
            " 104.40040232  87.231298   126.51030057 117.93970008 153.87499896\n",
            " 119.57970036 108.56909981 108.11149857  93.26520063 127.29559717\n",
            "  74.97780011 113.66539941 120.98820001 111.30429906 118.93399912\n",
            " 121.09189895 159.4520994  167.00470107 147.10419662  85.57959858\n",
            "  94.4615004   86.74009878  90.62869988 119.02830096 126.3915008\n",
            " 127.53239985 169.07389931 122.22739944 117.62819867  98.75680027\n",
            " 168.43460164 142.95039788 131.92470213 121.15160235 121.60469966\n",
            " 119.67340076 114.5137018  118.43720067 107.13100075 127.86920021\n",
            " 113.91669993 107.27050022 117.00240043 119.6659991   88.92160038\n",
            "  88.27589877 146.56810197 127.22979964 113.17080015 109.70549833\n",
            " 108.22009899  77.18229888 169.19860179 114.03449924 121.53639898\n",
            " 127.95500156 154.91399782  91.70109903 136.47370081 158.91400292\n",
            " 125.25220082 125.47870073 130.60290233 114.8823014  119.67649992\n",
            "  92.08800018 110.27349867 166.28409937 156.06749891 114.20339958\n",
            " 106.64530119  79.67139988 113.2638006  125.78420086 107.07319959\n",
            " 119.51310121 155.74270338 159.21929905 120.08639995 134.58420283\n",
            " 101.39260029 117.38449817 119.34110027 112.92690081 102.78639888\n",
            " 160.17849746  99.07650059 148.35919912 125.46370091 169.90489947\n",
            " 125.54189939 127.36459731 127.43960162 113.71949917 112.94310058\n",
            " 123.58869927 102.12629923  88.86249992 124.51289957 101.43559928\n",
            " 107.12429922 113.2531008  117.26430032  99.11079933 121.63590058\n",
            " 163.16049886  87.40729872 106.75849975 117.35510074 127.66270097\n",
            " 124.18970079  80.81069899 120.15650081 158.35319779  88.00089952\n",
            " 110.29399918 118.8646991  172.19669884 103.11229905 105.7129003\n",
            " 122.3876002  158.29539744  87.59409839  93.93670057 112.87560039\n",
            " 177.3599999  114.42699979 119.18290012  94.7332011  125.85150031\n",
            " 166.07720164 114.79740076 116.97710124  88.29029864 149.06910141\n",
            " 120.4831993   89.39449986 112.66929978 117.27480049 118.91150119\n",
            "  88.3321997   94.31720016 116.93450039 118.35980173 120.30510022\n",
            " 126.65429845 121.95000017 149.95300017 165.65230042 118.6660996\n",
            " 120.39920132 150.9647003  118.35429894 173.17789892 105.3364995\n",
            " 104.91290124 149.64140154 113.86100123 124.84790094 147.19530031\n",
            " 119.58700128 115.16950026 112.84709979 113.48570187 140.9559017\n",
            " 118.02399751 102.90740033 115.85160102 103.22090145  98.5492001\n",
            " 117.11890085  90.57580025  91.5495004  153.75369952 102.72709964\n",
            " 154.85370036 114.35430149 138.7203012   90.13689817 115.50499933\n",
            " 114.74169957 122.83120066 121.65600043 165.40990107  92.93749963\n",
            " 135.32520093 121.2824994  120.6371011  104.70590053 141.92580298\n",
            " 122.04809902 116.71350054 113.41460095 127.0491977  122.67129968\n",
            " 125.7701996  121.18880079  86.83519881 132.18020236 143.28730195\n",
            "  92.59439969 157.13909953 159.02920215 126.37519885 164.87909928\n",
            " 108.82719979 109.35600123 103.65599872  94.30130003 127.91220277\n",
            " 106.88540064 162.25470026 121.5602006  132.10030023 130.67870221\n",
            " 160.72789981  90.21799847 175.43940149 127.87070086 126.64849889\n",
            "  86.07209892 124.5814995  150.0964973   89.60760005 106.97609983\n",
            " 109.09899994  83.76469917 135.34700048 155.30000212 138.31080365\n",
            "  74.21410028 151.88230041 125.92580003 126.76730028 127.53839889\n",
            " 108.65779949 156.27630016 114.39460127 116.96990096 125.28879986\n",
            " 154.05610131 121.23779974 156.430999    92.89930055 125.43630133\n",
            " 125.95990048  87.94870044  92.23409936 126.07129935 127.96350307\n",
            " 113.05430038 117.38499741 120.87430022 126.92439884 119.83320096\n",
            " 135.96190096  93.98039938 119.73470021 113.17240111  94.42339956\n",
            " 108.82129983  87.09219931 108.98239932  89.7534996   92.48420036\n",
            " 131.57140352 162.39480052  89.39850008 119.72560068 133.43390246\n",
            " 123.85110032 128.55170192 101.87329847  89.25819852 131.51890061\n",
            " 119.96060046 109.0039999  169.41210158 115.21970026  86.59189883\n",
            " 118.9698008   91.12649945 161.51789967 116.43680021 121.36490016\n",
            " 160.23229839 120.08929937 112.96749944 108.44539862 126.75860039\n",
            "  76.0580003  103.0099999  127.74350252 121.70329918  92.65740022\n",
            " 132.02640044 118.0631012  116.22799953 154.76850247 159.7533006\n",
            " 109.94469973 154.27069804 119.27840111 160.13240097 118.54870035\n",
            " 158.44989907 115.12979937 116.64550024 148.89189898 114.89220077\n",
            " 126.09819908 167.29789934 117.8849002  125.21189921 153.18940354\n",
            " 153.45290217 132.24000028 114.78690032 121.27670199 124.77850083\n",
            "  89.60900055 123.13059965 155.14750167 111.6646002  106.75719978\n",
            " 161.98270085 118.69489982 165.5929994  133.90130082 114.95159953\n",
            " 152.88159767 168.60609955 115.16210013 113.96090107 158.52469931\n",
            "  85.34069899 127.06800073 127.96010023 129.05439992 124.52640053\n",
            " 123.96140089  90.62750084 153.18170059  97.19079974 137.00309941\n",
            "  88.81959929 107.30070025 114.95850043 112.756601   124.15499922\n",
            "  91.37189876 125.58640127 162.43769884 119.94589862 165.10540097\n",
            " 126.60349863 112.42350018 127.59039942  94.74009892  91.1004994\n",
            " 103.19379895 120.7656      82.94959942 126.3606001  159.71240477\n",
            " 117.21020071 118.37489967 119.9971001  122.74199968 120.05390142\n",
            " 121.48630007 118.03800028 107.09550011 148.23479956 126.22739894\n",
            " 115.54560071  73.68130004 127.82400087 154.42290095 122.07810024\n",
            " 125.56370076  88.93309989 103.49359876 124.81280067 120.22020038\n",
            "  73.31180097 151.68099949 120.97900028 104.80459995  86.52949778\n",
            " 114.98509928 172.18489825 119.75380045 160.60069826 113.26429927\n",
            " 121.09150015 118.54070107  96.04589985 118.49320026 125.92200068\n",
            " 118.42229945  96.17810088 154.0918015  121.75630024 147.28329998\n",
            " 159.07950201 113.82390033 122.53399951 149.56739814 127.39060032\n",
            " 165.76830079 135.13490026 120.11250011 166.65349814 108.4269994\n",
            " 121.71579866 138.93300218 106.86559906]\n"
          ]
        }
      ]
    },
    {
      "cell_type": "code",
      "source": [
        "# R squared error\n",
        "error_score = metrics.r2_score(Y_test, test_data_prediction)\n",
        "print(\"R squared error : \", error_score)"
      ],
      "metadata": {
        "colab": {
          "base_uri": "https://localhost:8080/"
        },
        "id": "MyFFiVS1i6vB",
        "outputId": "1e0880a9-dde5-4ccb-de2a-f8985fd7690e"
      },
      "execution_count": 24,
      "outputs": [
        {
          "output_type": "stream",
          "name": "stdout",
          "text": [
            "R squared error :  0.9896206677756652\n"
          ]
        }
      ]
    },
    {
      "cell_type": "markdown",
      "source": [
        "Comparing the actual and the predicted values in a plot"
      ],
      "metadata": {
        "id": "Q6VG0_pci_6k"
      }
    },
    {
      "cell_type": "code",
      "source": [
        "Y_test = list(Y_test)"
      ],
      "metadata": {
        "id": "lgkD5GWei9nd"
      },
      "execution_count": 25,
      "outputs": []
    },
    {
      "cell_type": "code",
      "source": [
        "plt.plot(Y_test, color='red', label = 'Actual Value')\n",
        "plt.plot(test_data_prediction, color='blue', label='Predicted Value')\n",
        "plt.title('Actual Price vs Predicted Price')\n",
        "plt.xlabel('Number of values')\n",
        "plt.ylabel('GLD Price')\n",
        "plt.legend()\n",
        "plt.show()"
      ],
      "metadata": {
        "colab": {
          "base_uri": "https://localhost:8080/",
          "height": 295
        },
        "id": "9hCDhwZ-jFNv",
        "outputId": "a65f18ca-932f-42c3-da02-a0c58af78093"
      },
      "execution_count": 28,
      "outputs": [
        {
          "output_type": "display_data",
          "data": {
            "text/plain": [
              "<Figure size 432x288 with 1 Axes>"
            ],
            "image/png": "[encoded data removed]"
          },
          "metadata": {
            "needs_background": "light"
          }
        }
      ]
    },
    {
      "cell_type": "code",
      "source": [],
      "metadata": {
        "id": "Nw2IfwOqjGPN"
      },
      "execution_count": null,
      "outputs": []
    }
  ]
}